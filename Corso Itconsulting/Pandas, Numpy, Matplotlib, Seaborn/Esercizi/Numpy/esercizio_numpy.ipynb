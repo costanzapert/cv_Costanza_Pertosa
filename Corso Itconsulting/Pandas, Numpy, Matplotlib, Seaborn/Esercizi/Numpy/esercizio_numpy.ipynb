{
 "cells": [
  {
   "cell_type": "code",
   "execution_count": 16,
   "id": "2232c6c4-057b-4acc-931a-a006000cd9ac",
   "metadata": {},
   "outputs": [
    {
     "data": {
      "text/plain": [
       "array([99, 29, 99, 29,  4, 69, 18, 15, 10, 26, 47,  9, 68, 67, 68, 39, 48,\n",
       "       58, 73, 71, 22, 81, 85, 22, 69, 70, 74, 12, 66, 76, 38, 54, 99, 98,\n",
       "       43,  7])"
      ]
     },
     "execution_count": 16,
     "metadata": {},
     "output_type": "execute_result"
    }
   ],
   "source": [
    "import numpy as nd\n",
    "arr = nd.random.randint(1,101,36)\n",
    "arr"
   ]
  },
  {
   "cell_type": "code",
   "execution_count": 18,
   "id": "d64042c2-a02a-47bf-a142-600e75f25b2e",
   "metadata": {},
   "outputs": [
    {
     "data": {
      "text/plain": [
       "array([[99, 29, 99, 29,  4, 69],\n",
       "       [18, 15, 10, 26, 47,  9],\n",
       "       [68, 67, 68, 39, 48, 58],\n",
       "       [73, 71, 22, 81, 85, 22],\n",
       "       [69, 70, 74, 12, 66, 76],\n",
       "       [38, 54, 99, 98, 43,  7]])"
      ]
     },
     "execution_count": 18,
     "metadata": {},
     "output_type": "execute_result"
    }
   ],
   "source": [
    "arr = arr.reshape(6,6)\n",
    "arr"
   ]
  },
  {
   "cell_type": "code",
   "execution_count": 36,
   "id": "f35265da-da5c-4429-8b8a-3237897f19e9",
   "metadata": {},
   "outputs": [
    {
     "data": {
      "text/plain": [
       "array([[15, 10, 26, 47],\n",
       "       [67, 68, 39, 48],\n",
       "       [71, 22, 81, 85],\n",
       "       [70, 74, 12, 66]])"
      ]
     },
     "execution_count": 36,
     "metadata": {},
     "output_type": "execute_result"
    }
   ],
   "source": [
    "arr_s=arr[1:5, 1:5]\n",
    "arr_s \n"
   ]
  },
  {
   "cell_type": "code",
   "execution_count": 56,
   "id": "7aa6eb0c-deb3-4ae6-8dbc-1a3a078c228e",
   "metadata": {},
   "outputs": [
    {
     "data": {
      "text/plain": [
       "array([[70, 74, 12, 66],\n",
       "       [71, 22, 81, 85],\n",
       "       [67, 68, 39, 48],\n",
       "       [15, 10, 26, 47]])"
      ]
     },
     "execution_count": 56,
     "metadata": {},
     "output_type": "execute_result"
    }
   ],
   "source": [
    "arr_i = arr_s[::-1, :]\n",
    "arr_i"
   ]
  },
  {
   "cell_type": "code",
   "execution_count": 60,
   "id": "e725f1da-3ad6-42fd-8f80-89bf85632102",
   "metadata": {},
   "outputs": [
    {
     "ename": "NameError",
     "evalue": "name 'diag' is not defined",
     "output_type": "error",
     "traceback": [
      "\u001b[0;31m---------------------------------------------------------------------------\u001b[0m",
      "\u001b[0;31mNameError\u001b[0m                                 Traceback (most recent call last)",
      "Cell \u001b[0;32mIn[60], line 1\u001b[0m\n\u001b[0;32m----> 1\u001b[0m diagonale \u001b[38;5;241m=\u001b[39m diag(arr_i,\u001b[38;5;241m0\u001b[39m)\n",
      "\u001b[0;31mNameError\u001b[0m: name 'diag' is not defined"
     ]
    }
   ],
   "source": [
    "diagonale = diag(arr_i,0)"
   ]
  },
  {
   "cell_type": "code",
   "execution_count": null,
   "id": "5cd0853b-5170-46c0-8945-e5d8058dd737",
   "metadata": {},
   "outputs": [],
   "source": []
  }
 ],
 "metadata": {
  "kernelspec": {
   "display_name": "Python [conda env:base] *",
   "language": "python",
   "name": "conda-base-py"
  },
  "language_info": {
   "codemirror_mode": {
    "name": "ipython",
    "version": 3
   },
   "file_extension": ".py",
   "mimetype": "text/x-python",
   "name": "python",
   "nbconvert_exporter": "python",
   "pygments_lexer": "ipython3",
   "version": "3.12.7"
  }
 },
 "nbformat": 4,
 "nbformat_minor": 5
}
